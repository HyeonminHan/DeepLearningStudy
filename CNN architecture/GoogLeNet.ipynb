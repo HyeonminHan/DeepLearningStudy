{
 "cells": [
  {
   "cell_type": "code",
   "execution_count": 5,
   "metadata": {},
   "outputs": [],
   "source": [
    "import torch\n",
    "import torch.nn as nn\n",
    "import torch.nn.functional as F\n",
    "from torch.jit.annotations import Optional, Tuple"
   ]
  },
  {
   "cell_type": "code",
   "execution_count": 3,
   "metadata": {},
   "outputs": [],
   "source": [
    "class Inceptionv3(nn.Module):\n",
    "    def __init__(self, input_planes, n_channels1x1, n_channels3x3red, n_channels3x3, n_channels5x5red, n_channels5x5, pooling_planes):\n",
    "        super(Inceptionv3, self).__init__()\n",
    "\n",
    "        ## 1x1 합성곱\n",
    "        self.block1 = nn.Sequential(\n",
    "            nn.Conv2d(input_planes, n_channels1x1, kernel_size=1),\n",
    "            nn.BatchNorm2d(n_channels1x1),\n",
    "            nn.ReLU(True)\n",
    "        )\n",
    "\n",
    "        ## 1x1 합성곱 -> 3x3 합성곱\n",
    "        self.block2 = nn.Sequential(\n",
    "            nn.Conv2d(input_planes, n_channels3x3red, kernel_size=1), ## 채널 수는 정하기 나름(?), 정해져야하는 것은 kernel 수\n",
    "            nn.BatchNorm2d(n_channels3x3red), \n",
    "            nn.ReLU(True),\n",
    "\n",
    "            nn.Conv2d(n_channels3x3red, n_channels3x3, kernel_size=3, padding=1),\n",
    "            nn.BatchNorm2d(n_channels3x3),\n",
    "            nn.ReLU(True)\n",
    "        )\n",
    "\n",
    "        ## 1x1 합성곱 -> 5x5 합성곱\n",
    "        self.block3 = nn.Sequential(\n",
    "            nn.Conv2d(input_planes, n_channels5x5red, kernel_size=1),\n",
    "            nn.BatchNorm2d(n_channels5x5red), \n",
    "            nn.ReLU(True),\n",
    "\n",
    "            nn.Conv2d(n_channels5x5red, n_channels5x5, kernel_size=3, padding=1),\n",
    "            nn.BatchNorm2d(n_channels5x5), \n",
    "            nn.ReLU(True),\n",
    "\n",
    "            nn.Conv2d(n_channels5x5, n_channels5x5, kernel_size=3, padding=1),\n",
    "            nn.BatchNorm2d(n_channels5x5), \n",
    "            nn.ReLU(True),\n",
    "        )\n",
    "\n",
    "        ## 3x3 pooling -> 1x1 합성곱\n",
    "        self.block4 = nn.Sequential(\n",
    "            nn.MaxPool2d(kernel_size=3, stride=1, padding=1),\n",
    "\n",
    "            nn.Conv2d(input_planes, pooling_planes, kernel_size=1),\n",
    "            nn.BatchNorm2d(pooling_planes), \n",
    "            nn.ReLU(True)\n",
    "        )\n",
    "    \n",
    "    def forward(self, x):\n",
    "        op1 = self.block1(x)\n",
    "        op2 = self.block2(x)\n",
    "        op3 = self.block3(x)\n",
    "        op4 = self.block4(x)\n",
    "\n",
    "        return torch.cat([op1, op2, op3, op4], 1)"
   ]
  },
  {
   "cell_type": "code",
   "execution_count": 4,
   "metadata": {},
   "outputs": [],
   "source": [
    "class BasicConv2d(nn.Module):\n",
    "\n",
    "    def __init__(self, in_channels, out_channels, **kwargs):\n",
    "        super(BasicConv2d, self).__init__()\n",
    "        self.conv = nn.Conv2d(in_channels, out_channels, bias=False, **kwargs)\n",
    "        self.bn = nn.BatchNorm2d(out_channels, eps=0.001)\n",
    "\n",
    "    def forward(self, x):\n",
    "        x = self.conv(x)\n",
    "        x = self.bn(x)\n",
    "        return F.relu(x, inplace=True)"
   ]
  },
  {
   "cell_type": "code",
   "execution_count": null,
   "metadata": {},
   "outputs": [],
   "source": [
    "class GoogLeNet(nn.Module):\n",
    "    def __init__(self):\n",
    "        super(GoogLeNet, self).__init__()\n",
    "        \n",
    "        self.stem = nn.Sequential(\n",
    "            BasicConv2d(3, 64, kernel_size=7, stride=2, padding=3),\n",
    "            nn.MaxPool2d(kernel_size=3, stride=2, ceil_mode=True), ## ceil mode -> output shape을 결정할 때 ceil 연산 사용\n",
    "            BasicConv2d(64, 64, kernel_size=1),\n",
    "            BasicConv2d(64, 192, kernel_size=3, stride = 1, padding=1),\n",
    "            nn.MaxPool2d(kernel_size=3, stride=2, ceil_mode=True),\n",
    "        )\n",
    "\n",
    "        self.im1 = Inceptionv3(192, 64, 96, 128, 16, 32, 32)\n",
    "        self.im2 = Inceptionv3(256, 128, 128, 192, 32, 96, 64)\n",
    "        self.im3 = Inceptionv3(480, 192, 96, 208, 16, 48, 64)\n",
    "        self.im4 = Inceptionv3(512, 160, 112, 224, 24, 64, 64)\n",
    "        self.im5 = Inceptionv3(512, 128, 128, 256, 24, 64, 64)\n",
    "        self.im6 = Inceptionv3(512, 112, 144, 288, 32, 64, 64)\n",
    "        self.im7 = Inceptionv3(528, 256, 160, 320, 32, 128, 128)\n",
    "\n",
    "    def forward(self, x):\n",
    "        op = self.stem(x)\n",
    "        op = self.im1(op)\n",
    "        op = self.im2(op)\n",
    "        op = nn.MaxPool2d(3, stride= 2, ceil_mode = True)\n",
    "\n",
    "        op = self.im3(op)\n",
    "        torch.jit.annotate(Optional[Tensor], None)\n",
    "        \n"
   ]
  }
 ],
 "metadata": {
  "kernelspec": {
   "display_name": "base",
   "language": "python",
   "name": "python3"
  },
  "language_info": {
   "codemirror_mode": {
    "name": "ipython",
    "version": 3
   },
   "file_extension": ".py",
   "mimetype": "text/x-python",
   "name": "python",
   "nbconvert_exporter": "python",
   "pygments_lexer": "ipython3",
   "version": "3.8.8"
  },
  "orig_nbformat": 4,
  "vscode": {
   "interpreter": {
    "hash": "9502607ac120794b982d5ccb3066dfe72152880354e0dfbf31f715d9cfc03cca"
   }
  }
 },
 "nbformat": 4,
 "nbformat_minor": 2
}
