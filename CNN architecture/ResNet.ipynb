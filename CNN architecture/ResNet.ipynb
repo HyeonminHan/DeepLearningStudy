{
 "cells": [
  {
   "cell_type": "code",
   "execution_count": 4,
   "metadata": {},
   "outputs": [],
   "source": [
    "import torch\n",
    "import torch.nn as nn\n",
    "import torch.nn.functional as F"
   ]
  },
  {
   "cell_type": "code",
   "execution_count": 5,
   "metadata": {},
   "outputs": [],
   "source": [
    "class BasicBlock(nn.Module):\n",
    "    multiplier=1\n",
    "    def __init__(self, in_channels, out_channels, strd=1):\n",
    "        super(BasicBlock, self).__init__()\n",
    "\n",
    "        self.conv1 = nn.Conv2d(in_channels, out_channels, kernel_size=3, stride=strd, padding=1, bias=False)\n",
    "        self.bn1 = nn.BatchNorm2d(out_channels)\n",
    "        self.conv2 = nn.Conv2d(out_channels, out_channels, kernel_size=3, stride=1, padding=1, bias=False)\n",
    "        self.bn2 = nn.BatchNorm2d(out_channels)\n",
    "\n",
    "        self.res_connnection = nn.Sequential()\n",
    "        if strd > 1 or in_channels != self.multiplier * out_channels : ## stride가 1 초과거나, output채널이 input채널과 다르다면 (multiplier가 1이기 때문)\n",
    "            self.res_connnection = nn.Sequential(\n",
    "                nn.Conv2d(in_channels, out_channels * self.multiplier, kernel_size=1, stride=strd, bias=False),\n",
    "                nn.BatchNorm2d(out_channels * self.multiplier)\n",
    "            )\n",
    "\n",
    "    def forward(self, x):\n",
    "        op = self.conv1(x)\n",
    "        op = self.bn1(op)\n",
    "        op = F.relu(op)\n",
    "        op = self.conv2(op)\n",
    "        op = self.bn2(op)\n",
    "\n",
    "        op += self.res_connnection(x)\n",
    "\n",
    "        op = F.relu(op)\n",
    "\n",
    "        return op"
   ]
  }
 ],
 "metadata": {
  "kernelspec": {
   "display_name": "base",
   "language": "python",
   "name": "python3"
  },
  "language_info": {
   "codemirror_mode": {
    "name": "ipython",
    "version": 3
   },
   "file_extension": ".py",
   "mimetype": "text/x-python",
   "name": "python",
   "nbconvert_exporter": "python",
   "pygments_lexer": "ipython3",
   "version": "3.8.8"
  },
  "orig_nbformat": 4,
  "vscode": {
   "interpreter": {
    "hash": "9502607ac120794b982d5ccb3066dfe72152880354e0dfbf31f715d9cfc03cca"
   }
  }
 },
 "nbformat": 4,
 "nbformat_minor": 2
}
